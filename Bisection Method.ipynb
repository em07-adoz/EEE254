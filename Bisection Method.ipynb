{
 "cells": [
  {
   "cell_type": "markdown",
   "metadata": {},
   "source": [
    "### Cube Root Function\n",
    "This cell has a function to find the cube root of a number, like finding what number cubed (times itself three times) gives your number."
   ]
  },
  {
   "cell_type": "code",
   "execution_count": 12,
   "metadata": {},
   "outputs": [],
   "source": [
    "# We need this to use a timer\n",
    "import time\n",
    "\n",
    "# This function finds the cube root, like what number times itself three times equals our number\n",
    "def find_cube_root(number):\n",
    "    # We use a tiny number to say how close we need to get to the answer\n",
    "    epsilon = 0.000001\n",
    "    \n",
    "    # Count how many steps we take\n",
    "    steps = 0\n",
    "    \n",
    "    # Start a timer to see how long it takes\n",
    "    start_time = time.time()\n",
    "    \n",
    "    # If the number is zero, the cube root is zero, so we’re done\n",
    "    if number == 0:\n",
    "        return 0, 0, 0, 1  # Zero has 1 digit\n",
    "    \n",
    "    # Check if the number is negative (less than zero)\n",
    "    is_negative = number < 0\n",
    "    # If it’s negative, make it positive for now\n",
    "    if is_negative:\n",
    "        number = -number\n",
    "    \n",
    "    # Guess the cube root by picking a range\n",
    "    # Start at 0 and go up to the number itself\n",
    "    low = 0\n",
    "    high = number\n",
    "    \n",
    "    # Our first guess is right in the middle\n",
    "    guess = (low + high) / 2\n",
    "    \n",
    "    # Keep guessing until we’re super close\n",
    "    # We check if guess * guess * guess is close to our number\n",
    "    while abs(guess * guess * guess - number) > epsilon:\n",
    "        # If our guess cubed is too small, we need a bigger guess\n",
    "        if guess * guess * guess < number:\n",
    "            low = guess\n",
    "        # If our guess cubed is too big, we need a smaller guess\n",
    "        else:\n",
    "            high = guess\n",
    "        # Try the middle of the new range\n",
    "        guess = (low + high) / 2\n",
    "        # Add 1 to our step count\n",
    "        steps += 1\n",
    "    \n",
    "    # If the number was negative, make the cube root negative too\n",
    "    if is_negative:\n",
    "        guess = -guess\n",
    "    \n",
    "    # Stop the timer\n",
    "    total_time = time.time() - start_time\n",
    "    \n",
    "    # Count how many digits in the number (like 123 has 3 digits)\n",
    "    digits = len(str(number))\n",
    "    \n",
    "    # Give back the cube root, steps, time, and digits\n",
    "    return guess, steps, total_time, digits"
   ]
  },
  {
   "cell_type": "markdown",
   "metadata": {},
   "source": [
    "### Test Cube Root\n",
    "This cell tries the cube root function on a few numbers and shows the results."
   ]
  },
  {
   "cell_type": "code",
   "execution_count": 13,
   "metadata": {},
   "outputs": [
    {
     "name": "stdout",
     "output_type": "stream",
     "text": [
      "Number: -10000, Cube Root: -21.5443, Steps: 39, Digits: 5\n",
      "Number: -1000, Cube Root: -10.0000, Steps: 36, Digits: 4\n",
      "Number: -100, Cube Root: -4.6416, Steps: 30, Digits: 3\n",
      "Number: -10, Cube Root: -2.1544, Steps: 24, Digits: 2\n",
      "Number: -1, Cube Root: -1.0000, Steps: 21, Digits: 1\n",
      "Number: 0, Cube Root: 0.0000, Steps: 0, Digits: 1\n",
      "Number: 1, Cube Root: 1.0000, Steps: 21, Digits: 1\n",
      "Number: 10, Cube Root: 2.1544, Steps: 24, Digits: 2\n",
      "Number: 100, Cube Root: 4.6416, Steps: 30, Digits: 3\n",
      "Number: 1000, Cube Root: 10.0000, Steps: 36, Digits: 4\n",
      "Number: 10000, Cube Root: 21.5443, Steps: 39, Digits: 5\n"
     ]
    }
   ],
   "source": [
    "# Let’s try finding cube roots for lots of numbers\n",
    "numbers = [-10000, -1000, -100, -10, -1, 0, 1, 10, 100, 1000, 10000]  # Big and small numbers\n",
    "results = []  # A place to save our answers\n",
    "\n",
    "# Go through each number\n",
    "for num in numbers:\n",
    "    # Get the cube root, steps, time, and digits\n",
    "    root, steps, time_taken, digits = find_cube_root(num)\n",
    "    # Save the answers\n",
    "    results.append((root, steps, time_taken, digits))\n",
    "    # Show what we found\n",
    "    print(f\"Number: {num}, Cube Root: {root:.4f}, Steps: {steps}, Digits: {digits}\")"
   ]
  },
  {
   "cell_type": "markdown",
   "metadata": {},
   "source": [
    "### Graph Results"
   ]
  },
  {
   "cell_type": "code",
   "execution_count": 16,
   "metadata": {},
   "outputs": [
    {
     "data": {
      "image/png": "[encoded data removed]",
      "text/plain": [
       "<Figure size 800x300 with 2 Axes>"
      ]
     },
     "metadata": {},
     "output_type": "display_data"
    }
   ],
   "source": [
    "# We need this to make pictures\n",
    "import matplotlib.pyplot as plt\n",
    "\n",
    "# Get our answers from the tests\n",
    "steps = [r[1] for r in results]  # How many guesses for each number\n",
    "times = [r[2] for r in results]  # How long it took\n",
    "digits = [r[3] for r in results]  # How many digits\n",
    "\n",
    "# Make two pictures side by side\n",
    "plt.figure(figsize=(8, 3))\n",
    "\n",
    "# Picture 1: how many guesses vs. digits\n",
    "plt.subplot(1, 2, 1)\n",
    "plt.scatter(digits, steps, color='blue')  # Put dots for each number\n",
    "plt.xlabel('Digits')  # Say what digits are\n",
    "plt.ylabel('Guesses')  # Say what guesses are\n",
    "plt.title('Guesses vs Digits')  # Name the picture\n",
    "plt.grid(True)  # Add lines to make it clear\n",
    "\n",
    "# Picture 2: how long it took vs. digits\n",
    "plt.subplot(1, 2, 2)\n",
    "plt.scatter(digits, times, color='red')  # Dots for time\n",
    "plt.xlabel('Digits')  # Digits again\n",
    "plt.ylabel('Time (seconds)')  # Time taken\n",
    "plt.title('Time vs Digits')  # Name it\n",
    "plt.grid(True)\n",
    "\n",
    "# Show both pictures\n",
    "plt.tight_layout()\n",
    "plt.show()"
   ]
  },
  {
   "cell_type": "markdown",
   "metadata": {},
   "source": [
    "### Prime Number Checker\n",
    "This checks if a number is prime (only divisible by 1 and itself)."
   ]
  },
  {
   "cell_type": "code",
   "execution_count": 7,
   "metadata": {},
   "outputs": [],
   "source": [
    "# This checks if a number is prime, like 3 or 5, which only divide by 1 and themselves\n",
    "def is_prime(n):\n",
    "    # Count how many times we check\n",
    "    steps = 0\n",
    "    \n",
    "    # Numbers less than 2 aren’t prime\n",
    "    if n < 2:\n",
    "        return False, 0\n",
    "    \n",
    "    # Try dividing by numbers up to a small number (like a shortcut)\n",
    "    for i in range(2, int(n ** 0.5) + 1):\n",
    "        steps += 1\n",
    "        # If it divides evenly, it’s not prime\n",
    "        if n % i == 0:\n",
    "            return False, steps\n",
    "    \n",
    "    # If we didn’t find any dividers, it’s prime\n",
    "    return True, steps"
   ]
  },
  {
   "cell_type": "markdown",
   "metadata": {},
   "source": [
    "### Sum Prime Numbers\n",
    "This finds primes from 3 to 1000, adds them up, and saves data for graphs."
   ]
  },
  {
   "cell_type": "code",
   "execution_count": 8,
   "metadata": {},
   "outputs": [
    {
     "name": "stdout",
     "output_type": "stream",
     "text": [
      "Sum of primes from 3 to 1000: 76125\n"
     ]
    }
   ],
   "source": [
    "# We need this for a math shortcut\n",
    "import math\n",
    "\n",
    "# Add up all prime numbers from 3 to 1000\n",
    "prime_sum = 0  # Start with zero\n",
    "prime_data = []  # Save our answers\n",
    "\n",
    "# Check every number from 3 to 1000\n",
    "for n in range(3, 1001):\n",
    "    # Start a timer\n",
    "    start_time = time.time()\n",
    "    # See if it’s prime\n",
    "    is_prime_n, steps = is_prime(n)\n",
    "    # Stop the timer\n",
    "    time_taken = time.time() - start_time\n",
    "    \n",
    "    # If it’s prime, add it to our total\n",
    "    if is_prime_n:\n",
    "        prime_sum += n\n",
    "        # Count digits (like 13 has 2 digits)\n",
    "        digits = len(str(n))\n",
    "        # Save steps, time, and digits\n",
    "        prime_data.append((steps, time_taken, digits))\n",
    "\n",
    "# Show the total\n",
    "print(f\"Sum of primes from 3 to 1000: {prime_sum}\")"
   ]
  },
  {
   "cell_type": "markdown",
   "metadata": {},
   "source": [
    "### Graph Prime Results\n",
    "This makes graphs for the prime number checks.\n"
   ]
  },
  {
   "cell_type": "code",
   "execution_count": 9,
   "metadata": {},
   "outputs": [
    {
     "data": {
      "image/png": "[encoded data removed]",
      "text/plain": [
       "<Figure size 800x300 with 2 Axes>"
      ]
     },
     "metadata": {},
     "output_type": "display_data"
    }
   ],
   "source": [
    "# We need this to make pictures\n",
    "import matplotlib.pyplot as plt\n",
    "\n",
    "# Get our saved answers\n",
    "prime_steps = [d[0] for d in prime_data]  # How many checks\n",
    "prime_times = [d[1] for d in prime_data]  # How long it took\n",
    "prime_digits = [d[2] for d in prime_data]  # How many digits\n",
    "\n",
    "# Make two pictures\n",
    "plt.figure(figsize=(8, 3))\n",
    "\n",
    "# Picture 1: checks vs. digits\n",
    "plt.subplot(1, 2, 1)\n",
    "plt.scatter(prime_digits, prime_steps, color='green')  # Green dots\n",
    "plt.xlabel('Digits')  # Digits on the bottom\n",
    "plt.ylabel('Checks')  # Checks on the side\n",
    "plt.title('Checks vs Digits')  # Name the picture\n",
    "plt.grid(True)  # Add lines to see better\n",
    "\n",
    "# Picture 2: time vs. digits\n",
    "plt.subplot(1, 2, 2)\n",
    "plt.scatter(prime_digits, prime_times, color='purple')  # Purple dots\n",
    "plt.xlabel('Digits')  # Digits again\n",
    "plt.ylabel('Time (seconds)')  # Time on the side\n",
    "plt.title('Time vs Digits')  # Name it\n",
    "plt.grid(True)\n",
    "\n",
    "# Show the pictures\n",
    "plt.tight_layout()\n",
    "plt.show()"
   ]
  },
  {
   "cell_type": "markdown",
   "metadata": {},
   "source": [
    "### Egg-Dropping Function\n",
    "This finds the highest floor where an egg doesn’t break."
   ]
  },
  {
   "cell_type": "code",
   "execution_count": 10,
   "metadata": {},
   "outputs": [],
   "source": [
    "# Find the highest floor where an egg stays safe\n",
    "def egg_drop(floors=102, max_eggs=7, break_floor=50):\n",
    "    # Count eggs and drops\n",
    "    eggs_used = 0\n",
    "    drops = 0\n",
    "    \n",
    "    # Start at floor 1, go up to 102\n",
    "    low = 1\n",
    "    high = floors\n",
    "    \n",
    "    # Jump floors like steps on a ladder\n",
    "    step = 15\n",
    "    \n",
    "    # Keep dropping eggs until we use too many or find the answer\n",
    "    while eggs_used < max_eggs and low <= high:\n",
    "        # Use one egg\n",
    "        eggs_used += 1\n",
    "        # Pick a floor to drop from\n",
    "        drop_floor = min(low + step - 1, high)\n",
    "        # Count the drop\n",
    "        drops += 1\n",
    "        \n",
    "        # Pretend the egg breaks at break_floor or higher\n",
    "        if drop_floor >= break_floor:\n",
    "            # If it breaks, try lower floors\n",
    "            high = drop_floor - 1\n",
    "        else:\n",
    "            # If it doesn’t break, try higher floors\n",
    "            low = drop_floor + 1\n",
    "        \n",
    "        # Make the step smaller\n",
    "        step = max(1, (high - low) // (max_eggs - eggs_used + 1))\n",
    "        \n",
    "        # Stop if we’re super close\n",
    "        if high - low <= 1:\n",
    "            break\n",
    "    \n",
    "    # The safe floor is just below where it breaks\n",
    "    safe_floor = low - 1\n",
    "    # Show what we found\n",
    "    print(f\"Eggs used: {eggs_used}, Drops: {drops}, Safe Floor: {safe_floor}\")\n",
    "    return safe_floor"
   ]
  },
  {
   "cell_type": "markdown",
   "metadata": {},
   "source": [
    "### Test Egg-Dropping\n",
    "This runs the egg-dropping game."
   ]
  },
  {
   "cell_type": "code",
   "execution_count": 11,
   "metadata": {},
   "outputs": [
    {
     "name": "stdout",
     "output_type": "stream",
     "text": [
      "Eggs used: 7, Drops: 7, Safe Floor: 46\n"
     ]
    },
    {
     "data": {
      "text/plain": [
       "46"
      ]
     },
     "execution_count": 11,
     "metadata": {},
     "output_type": "execute_result"
    }
   ],
   "source": [
    "# Play the egg-dropping game\n",
    "egg_drop()"
   ]
  },
  {
   "cell_type": "markdown",
   "metadata": {},
   "source": [
    "### Software Testing Function\n"
   ]
  },
  {
   "cell_type": "code",
   "execution_count": 19,
   "metadata": {},
   "outputs": [],
   "source": [
    "# Find the smallest number that makes a program stop working\n",
    "def test_input(max_value=100, max_tests=7, fail_value=50):\n",
    "    # Count how many tests\n",
    "    tests_used = 0\n",
    "    \n",
    "    # Start at 1, go up to 100\n",
    "    low = 1\n",
    "    high = max_value\n",
    "    \n",
    "    # Jump numbers like steps\n",
    "    step = 15\n",
    "    \n",
    "    # Keep testing until we use too many tests\n",
    "    while tests_used < max_tests and low <= high:\n",
    "        # Do one test\n",
    "        tests_used += 1\n",
    "        # Pick a number\n",
    "        test_value = min(low + step - 1, high)\n",
    "        \n",
    "        # Pretend it breaks at fail_value or higher\n",
    "        if test_value >= fail_value:\n",
    "            # If it breaks, try smaller numbers\n",
    "            high = test_value - 1\n",
    "        else:\n",
    "            # If it doesn’t break, try bigger numbers\n",
    "            low = test_value + 1\n",
    "        \n",
    "        # Make the step smaller\n",
    "        step = max(1, (high - low) // (max_tests - tests_used + 1))\n",
    "        \n",
    "        # Stop if we’re close\n",
    "        if high - low <= 1:\n",
    "            break\n",
    "    \n",
    "    # The breaking number\n",
    "    fail_input = low\n",
    "    # Show what we found\n",
    "    print(f\"Tests used: {tests_used}, Breaking Number: {fail_input}\")\n",
    "    return fail_input"
   ]
  },
  {
   "cell_type": "markdown",
   "metadata": {},
   "source": [
    "### Test Software Scenario"
   ]
  },
  {
   "cell_type": "code",
   "execution_count": 20,
   "metadata": {},
   "outputs": [
    {
     "name": "stdout",
     "output_type": "stream",
     "text": [
      "Tests used: 7, Breaking Number: 47\n"
     ]
    },
    {
     "data": {
      "text/plain": [
       "47"
      ]
     },
     "execution_count": 20,
     "metadata": {},
     "output_type": "execute_result"
    }
   ],
   "source": [
    "# Try the software test\n",
    "test_input()"
   ]
  }
 ],
 "metadata": {
  "kernelspec": {
   "display_name": "Python 3",
   "language": "python",
   "name": "python3"
  },
  "language_info": {
   "codemirror_mode": {
    "name": "ipython",
    "version": 3
   },
   "file_extension": ".py",
   "mimetype": "text/x-python",
   "name": "python",
   "nbconvert_exporter": "python",
   "pygments_lexer": "ipython3",
   "version": "3.12.4"
  }
 },
 "nbformat": 4,
 "nbformat_minor": 2
}
